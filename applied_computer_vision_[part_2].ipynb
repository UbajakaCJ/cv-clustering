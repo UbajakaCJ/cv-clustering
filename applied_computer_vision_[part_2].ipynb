{
  "nbformat": 4,
  "nbformat_minor": 0,
  "metadata": {
    "colab": {
      "name": "applied_computer_vision_[part_2].ipynb",
      "provenance": []
    },
    "kernelspec": {
      "name": "python3",
      "display_name": "Python 3"
    },
    "language_info": {
      "name": "python"
    }
  },
  "cells": [
    {
      "cell_type": "code",
      "metadata": {
        "colab": {
          "base_uri": "https://localhost:8080/"
        },
        "id": "8IaArlJ9HUuF",
        "outputId": "5c71862c-e55c-40b0-f439-03faecbdc296"
      },
      "source": [
        "from google.colab import drive\n",
        "drive.mount('/content/gdrive/', force_remount=True)"
      ],
      "execution_count": 12,
      "outputs": [
        {
          "output_type": "stream",
          "name": "stdout",
          "text": [
            "Mounted at /content/gdrive/\n"
          ]
        }
      ]
    },
    {
      "cell_type": "code",
      "metadata": {
        "id": "Zij_PmPdHkvD"
      },
      "source": [
        "base_path = '/content/gdrive/MyDrive/upwork/applied_cv/'"
      ],
      "execution_count": 2,
      "outputs": []
    },
    {
      "cell_type": "code",
      "metadata": {
        "id": "zTupqsBmHwd4"
      },
      "source": [
        "import os\n",
        "import pandas as pd\n",
        "import numpy as np\n",
        "import matplotlib.pyplot as plt\n",
        "import cv2\n",
        "\n",
        "%matplotlib inline\n"
      ],
      "execution_count": 15,
      "outputs": []
    },
    {
      "cell_type": "code",
      "metadata": {
        "colab": {
          "base_uri": "https://localhost:8080/"
        },
        "id": "eKJ-nwnzH1j1",
        "outputId": "d6154197-e013-4fcf-bc7e-7956c107301e"
      },
      "source": [
        "!pwd\n",
        "os.chdir(base_path)\n",
        "!pwd"
      ],
      "execution_count": 4,
      "outputs": [
        {
          "output_type": "stream",
          "name": "stdout",
          "text": [
            "/content\n",
            "/content/gdrive/MyDrive/upwork/applied_cv\n"
          ]
        }
      ]
    },
    {
      "cell_type": "code",
      "metadata": {
        "id": "pGoGMO-2qaty"
      },
      "source": [
        "def match_keypoints(image_original, image_compare):\n",
        "  original = cv2.imread(image_original)\n",
        "  image_to_compare = cv2.imread(image_compare)\n",
        "\n",
        "  # Check if two images are equals\n",
        "  if original.shape == image_to_compare.shape:\n",
        "    print(\"The images have same size and channels\")\n",
        "    difference = cv2.subtract(original, image_to_compare)\n",
        "    b, g, r = cv2.split(difference)\n",
        "\n",
        "    if cv2.countNonZero(b) == 0 and cv2.countNonZero(g) == 0 and cv2.countNonZero(r) == 0:\n",
        "      print(\"The images are completely equal\")\n",
        "    else:\n",
        "      print(\"The images are not equal\")\n",
        "\n",
        "  # Check for similarities between the two images\n",
        "  sift = cv2.xfeatures2d.SIFT_create()\n",
        "  kp_1, desc_1 = sift.detectAndCompute(original, None)\n",
        "  kp_2, desc_2 = sift.detectAndCompute(image_to_compare, None)\n",
        "\n",
        "  index_params = dict(algorithm=0, trees=5)\n",
        "  search_params = dict()\n",
        "  flann = cv2.FlannBasedMatcher(index_params, search_params)\n",
        "\n",
        "  matches = flann.knnMatch(desc_1, desc_2, k=2)\n",
        "\n",
        "  good_points = []\n",
        "  ratio = 0.6\n",
        "\n",
        "  for m, n in matches:\n",
        "\tif m.distance < ratio*n.distance:\n",
        "\t\tgood_points.append(m)\n",
        "  \n",
        "  print(f\"Total number of keypoints: {len(good_points)}\")\n",
        "  print(f\"Total number of matches: {len(matches)}\")\n",
        "  print(f\"Ratio of matches to keypoints: {len(matches)/len(good_points)}\")\n",
        "  \n",
        "  result = cv2.drawMatches(original, kp_1, image_to_compare, kp_2, good_points, None)\n",
        "\n",
        "  cv2.imshow(\"result\", result)\n",
        "  cv2.imshow(\"Original\", original)\n",
        "  cv2.imshow(\"Duplicate\", image_to_compare)\n",
        "  cv2.waitKey(0)\n",
        "  cv2.destroyAllWindows()\n",
        "\n",
        "  return result"
      ],
      "execution_count": null,
      "outputs": []
    }
  ]
}